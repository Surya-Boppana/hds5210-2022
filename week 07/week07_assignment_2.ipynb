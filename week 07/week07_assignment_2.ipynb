{
 "cells": [
  {
   "cell_type": "markdown",
   "metadata": {},
   "source": [
    "# Week 7 Assignment\n",
    "\n",
    "_MkKinney 6.1_\n",
    "\n",
    "This week has been all about getting information off the internet both in structured data formats (CSV, JSON, etc) as well as HTML.  For these exercises, we're going to use two practical examples of fetching data from web pages to show how to use Pandas and BeautifulSoup to extract structured information from the web.\n",
    "\n",
    "---\n",
    "---"
   ]
  },
  {
   "cell_type": "markdown",
   "metadata": {},
   "source": [
    "### 33.1 Parsing a list in HTML\n",
    "\n",
    "Go to the Banner Health Price Transparency Page: https://www.bannerhealth.com/patients/billing/pricing-resources/hospital-price-transparency\n",
    "\n",
    "Notice that there is a list of hospitals and the city they are in.  We want to parse the underlying HTML to create a list of all the hospitals along with which city they're in.\n",
    "\n",
    "```json\n",
    "[\n",
    "    [\"Banner - University Medical Center Phoenix\", \"Arizona\"],\n",
    "    [\"Banner - University Medical Center South \", \"Arizona\"],\n",
    "    ...\n",
    "]\n",
    "```\n",
    "\n",
    "To examine the underlying HTML code, you can use Chrome, right-click, and choose **Inspect**.\n",
    "\n",
    "For reference, the documentation for BeautifulSoup is here: https://www.crummy.com/software/BeautifulSoup/bs4/doc/\n"
   ]
  },
  {
   "cell_type": "markdown",
   "metadata": {},
   "source": [
    "In the cell below, create a function called **parse_banner(url)** that takes as it's one parameter the URL of the webpage to be parsed for links.  Make sure you include docstrings and a good test case using hte URL provided above."
   ]
  },
  {
   "cell_type": "code",
   "execution_count": 27,
   "metadata": {},
   "outputs": [],
   "source": [
    "from bs4 import BeautifulSoup\n",
    "import requests\n",
    "\n",
    "# Note that you'll need to fetch the data using the following syntax to include headers\n",
    "# that make the web server think you're a real web browser.\n",
    "#this function takes input as url and gives the result as list of lists.\n",
    "def parse_banner(url):\n",
    "    result = []\n",
    "    headers = { \"User-Agent\": \"Mozilla/5.0 (Macintosh; Intel Mac OS X 11_2_3) AppleWebKit/537.36 (KHTML, like Gecko) Chrome/89.0.4389.90 Safari/537.36\" }\n",
    "    response = requests.get('https://www.bannerhealth.com/patients/billing/pricing-resources/hospital-price-transparency', headers=headers)\n",
    "    soup = BeautifulSoup(response.text, 'html.parser')\n",
    "    subject = soup.find_all('div', {\"class\":\"col-md-8\"})[0]\n",
    "    for hospital_list in subject.find_all('ul'):\n",
    "        state = hospital_list.previous_sibling.previous_sibling.string\n",
    "        for item in hospital_list.find_all('li'):\n",
    "            result.append([item.text,state])\n",
    "    print(result)\n",
    "    return result\n",
    "\n"
   ]
  },
  {
   "cell_type": "code",
   "execution_count": 28,
   "metadata": {},
   "outputs": [
    {
     "name": "stdout",
     "output_type": "stream",
     "text": [
      "Finding tests in NoName\n"
     ]
    }
   ],
   "source": [
    "import doctest\n",
    "doctest.run_docstring_examples(parse_banner, globals(), verbose=True)"
   ]
  },
  {
   "cell_type": "code",
   "execution_count": 29,
   "metadata": {},
   "outputs": [
    {
     "name": "stdout",
     "output_type": "stream",
     "text": [
      "[['Banner - University Medical Center Phoenix', 'Arizona'], ['Banner - University Medical Center South\\xa0', 'Arizona'], ['Banner - University Medical Center Tucson', 'Arizona'], ['Banner Baywood Medical Center\\xa0', 'Arizona'], ['Banner Behavioral Health Hospital', 'Arizona'], ['Banner Boswell Medical Center', 'Arizona'], ['Banner Casa Grande Medical Center', 'Arizona'], ['Banner Del E. Webb Medical Center', 'Arizona'], [\"Banner Desert Medical Center/Cardon Children's Medical Center\\xa0\\xa0\", 'Arizona'], ['Banner Estrella Medical Center', 'Arizona'], ['Banner Gateway Medical Center/Banner MD Anderson Cancer Center', 'Arizona'], ['Banner Goldfield Medical Center\\xa0\\xa0', 'Arizona'], ['Banner Heart Hospital', 'Arizona'], ['Banner Ironwood Medical Center', 'Arizona'], ['Banner Ocotillo Medical Center', 'Arizona'], ['Banner Payson Medical Center', 'Arizona'], ['Banner Rehabilitation Hospitals', 'Arizona'], ['Banner Thunderbird Medical Center', 'Arizona'], ['Page Hospital', 'Arizona'], ['Banner Lassen Medical Center', 'California'], ['Banner Fort Collins Medical Center', 'Colorado'], ['McKee Medical Center', 'Colorado'], ['North Colorado Medical Center', 'Colorado'], ['Sterling Regional Medical Center', 'Colorado'], ['East Morgan County Hospital', 'Colorado'], ['Ogallala Community Hospital', 'Nebraska'], ['Banner Churchill Community Hospital', 'Nevada'], ['Banner Wyoming Medical Center\\xa0Central Campus', 'Wyoming'], ['Banner Wyoming Medical Center East Campus', 'Wyoming'], ['Community Hospital', 'Wyoming'], ['Washakie Medical Center', 'Wyoming'], ['Platte County Memorial Hospital', 'Wyoming'], ['Arizona', 'State-Specific Regulations'], ['California', 'State-Specific Regulations'], ['Colorado', 'State-Specific Regulations'], ['Nebraska', 'State-Specific Regulations'], ['Nevada', 'State-Specific Regulations'], ['Wyoming', 'State-Specific Regulations']]\n"
     ]
    }
   ],
   "source": [
    "banner = parse_banner('https://www.bannerhealth.com/patients/billing/pricing-resources/hospital-price-transparency')\n",
    "assert len(banner)==38, 'Length of result should have been 38, but {} returned.'.format(len(banner))\n",
    "assert banner[0][1]=='Arizona', 'Wrong data found in the first result item: {}'.format(banner[0])"
   ]
  },
  {
   "cell_type": "markdown",
   "metadata": {},
   "source": [
    "---\n",
    "\n",
    "## 33.2 Using a REST API (from GitHub.com)\n",
    "\n",
    "Many websites provide something called a REST API to access information from their site programatically, rather than relying on HTML.  One example is GitHub.com, whose API allows you do to things like \"list all the public repositories for a user.\"\n",
    "\n",
    "The documentation for GitHub.com's REST API can be found here: https://docs.github.com/en/rest/guides/getting-started-with-the-rest-api\n",
    "\n",
    "Create a function called **repo_summary(user)** that takes a GitHub.com user name as it's parameter and retrieves a list of all the repositories you can see for that user.  The specific documentation for the this kind of request can be found here: https://docs.github.com/en/rest/reference/repos#list-repositories-for-a-user. Make sure your function is well documented with a docstring and includes a simple test to verify that you get back 12 repositories when querying for the repositories for user **paulboal**.\n",
    "\n",
    "I've provided a related example to help you out."
   ]
  },
  {
   "cell_type": "code",
   "execution_count": 33,
   "metadata": {},
   "outputs": [
    {
     "name": "stdout",
     "output_type": "stream",
     "text": [
      "This information is about paulboal. His website is www.amitechsolutions.com.\n"
     ]
    }
   ],
   "source": [
    "# Example -- this example of code shows how to get basic information on the user paulboal\n",
    "# For your solution, make sure you meet the requirements in the instructions above.\n",
    "\n",
    "import requests\n",
    "\n",
    "response = requests.get('https://api.github.com/users/paulboal')\n",
    "data = response.json()\n",
    "\n",
    "print('This information is about {}. His website is {}.'.format(data.get('login'), data.get('blog')))"
   ]
  },
  {
   "cell_type": "code",
   "execution_count": 64,
   "metadata": {},
   "outputs": [
    {
     "name": "stdout",
     "output_type": "stream",
     "text": [
      "['AlertDialogWithImagesAndAnimations', 'all-contributors', 'Appintroslider', 'autocomplete', 'AutoOTPDetective', 'C2D', 'CaptchaResolver', 'chavarera', 'Cinfo', 'CleanPy', 'codewars', 'ColorTrackbar', 'Competitive-Programming-Repository', 'covidindia', 'CustomListViewDemo', 'DatascienceFromScratch', 'dev-tools', 'Django-CRUD', 'django-mdb', 'Fantasy-Cricket-Game', 'File_Extenssion_List', 'FiveRudimentsOfPython', 'FragmentExample', 'GitProfile', 'hacktoberfest-19', 'HacktoberFest2K19', 'Hactoberfest-2k19', 'HelloGithub', 'Learn', 'linkstatus']\n"
     ]
    }
   ],
   "source": [
    "# Your code Here\n",
    "def repo_summary(user):\n",
    "    response = requests.get('https://api.github.com/users/'+user+'/repos')\n",
    "    data = response.json()\n",
    "    repo_list = []\n",
    "    for i in data:\n",
    "        repo_list.append(i['name'])\n",
    "    return repo_list    \n",
    "#tescase\n",
    "test = repo_summary('chavarera')\n",
    "print(test)\n"
   ]
  },
  {
   "cell_type": "code",
   "execution_count": 65,
   "metadata": {},
   "outputs": [
    {
     "name": "stdout",
     "output_type": "stream",
     "text": [
      "Finding tests in NoName\n"
     ]
    }
   ],
   "source": [
    "import doctest\n",
    "doctest.run_docstring_examples(repo_summary, globals(), verbose=True)"
   ]
  },
  {
   "cell_type": "code",
   "execution_count": 66,
   "metadata": {},
   "outputs": [],
   "source": [
    "repos = repo_summary('paulboal')\n",
    "assert len(repos)==12, 'Expecing 12, but {} were found'.format(len(repos))"
   ]
  },
  {
   "cell_type": "markdown",
   "metadata": {},
   "source": [
    "---\n",
    "\n",
    "### 33.3 Find Something of Your Own\n",
    "\n",
    "Do some web searches and find an HTML page with some data that is interesting to something you're studying.  You can extract and parse that information using either BeautifulSoup or Pandas.  If you're using Pandas, then do something interesting to format and structure your data.  If you're using BeautifulSoup, you'll just need to do the work of parsing the data out of HTML -- that's hard enough!\n",
    "\n",
    "You don't need to build this as a function.  Just use notebook cells as I've done above.  You will be graded based on _style_.  Use variable names that make sense for your problem / solution. Cleanup anything you don't need before you submit your work."
   ]
  },
  {
   "cell_type": "code",
   "execution_count": 22,
   "metadata": {},
   "outputs": [
    {
     "name": "stdout",
     "output_type": "stream",
     "text": [
      "TABLE 0\n",
      "    0                                                  1\n",
      "0 NaN  This section needs additional citations for ve...\n",
      "TABLE 1\n",
      "                                                   0  \\\n",
      "0  ICD-1 – 1900 ICD-2 – 1910 ICD-3 – 1921 ICD-4 –...   \n",
      "\n",
      "                                                   1  \n",
      "0  ICD-6 – 1949 ICD-7 – 1958 ICD-8A – 1968 ICD-9 ...  \n",
      "TABLE 2\n",
      "    0                                                  1\n",
      "0 NaN  Wikidata has the property: ID (MMS) (P7329) (s...\n",
      "TABLE 3\n",
      "  .mw-parser-output .navbar{display:inline;font-size:88%;font-weight:normal}.mw-parser-output .navbar-collapse{float:left;text-align:left}.mw-parser-output .navbar-boxtext{word-spacing:0}.mw-parser-output .navbar ul{display:inline-block;white-space:nowrap;line-height:inherit}.mw-parser-output .navbar-brackets::before{margin-right:-0.125em;content:\"[ \"}.mw-parser-output .navbar-brackets::after{margin-left:-0.125em;content:\" ]\"}.mw-parser-output .navbar li{word-spacing:-0.125em}.mw-parser-output .navbar a>span,.mw-parser-output .navbar a>abbr{text-decoration:inherit}.mw-parser-output .navbar-mini abbr{font-variant:small-caps;border-bottom:none;text-decoration:none;cursor:inherit}.mw-parser-output .navbar-ct-full{font-size:114%;margin:0 7em}.mw-parser-output .navbar-ct-mini{font-size:114%;margin:0 4em}vteMedical classification  \\\n",
      "0                                Topographical codes                                                                                                                                                                                                                                                                                                                                                                                                                                                                                                                                                                                                                                                                                                                                                                                                                  \n",
      "1                                   Diagnostic codes                                                                                                                                                                                                                                                                                                                                                                                                                                                                                                                                                                                                                                                                                                                                                                                                                  \n",
      "2  .mw-parser-output .nobold{font-weight:normal}g...                                                                                                                                                                                                                                                                                                                                                                                                                                                                                                                                                                                                                                                                                                                                                                                                                  \n",
      "3                                       specialized:                                                                                                                                                                                                                                                                                                                                                                                                                                                                                                                                                                                                                                                                                                                                                                                                                  \n",
      "4                                   Procedural codes                                                                                                                                                                                                                                                                                                                                                                                                                                                                                                                                                                                                                                                                                                                                                                                                                  \n",
      "5                               Pharmaceutical codes                                                                                                                                                                                                                                                                                                                                                                                                                                                                                                                                                                                                                                                                                                                                                                                                                  \n",
      "6                                     Outcomes codes                                                                                                                                                                                                                                                                                                                                                                                                                                                                                                                                                                                                                                                                                                                                                                                                                  \n",
      "\n",
      "  .mw-parser-output .navbar{display:inline;font-size:88%;font-weight:normal}.mw-parser-output .navbar-collapse{float:left;text-align:left}.mw-parser-output .navbar-boxtext{word-spacing:0}.mw-parser-output .navbar ul{display:inline-block;white-space:nowrap;line-height:inherit}.mw-parser-output .navbar-brackets::before{margin-right:-0.125em;content:\"[ \"}.mw-parser-output .navbar-brackets::after{margin-left:-0.125em;content:\" ]\"}.mw-parser-output .navbar li{word-spacing:-0.125em}.mw-parser-output .navbar a>span,.mw-parser-output .navbar a>abbr{text-decoration:inherit}.mw-parser-output .navbar-mini abbr{font-variant:small-caps;border-bottom:none;text-decoration:none;cursor:inherit}.mw-parser-output .navbar-ct-full{font-size:114%;margin:0 7em}.mw-parser-output .navbar-ct-mini{font-size:114%;margin:0 4em}vteMedical classification.1  \n",
      "0    Terminologia TA TH TE SNOMED T axis MeSH A axis                                                                                                                                                                                                                                                                                                                                                                                                                                                                                                                                                                                                                                                                                                                                                                                                                   \n",
      "1  .mw-parser-output .nobold{font-weight:normal}g...                                                                                                                                                                                                                                                                                                                                                                                                                                                                                                                                                                                                                                                                                                                                                                                                                   \n",
      "2  ICD 11 10 9 ICPC-2 DRC NANDA Read codes SNOMED...                                                                                                                                                                                                                                                                                                                                                                                                                                                                                                                                                                                                                                                                                                                                                                                                                   \n",
      "3    ICD-O ICSD ICHD ILDS DSM IV 5 BPA CCMD-3 OSIICS                                                                                                                                                                                                                                                                                                                                                                                                                                                                                                                                                                                                                                                                                                                                                                                                                   \n",
      "4  HCPCS (CPT, Level 2) ICD 10 PCS 9-CM Volume 3 ...                                                                                                                                                                                                                                                                                                                                                                                                                                                                                                                                                                                                                                                                                                                                                                                                                   \n",
      "5                          ATC NDC SNOMED C axis DIN                                                                                                                                                                                                                                                                                                                                                                                                                                                                                                                                                                                                                                                                                                                                                                                                                   \n",
      "6                                                NOC                                                                                                                                                                                                                                                                                                                                                                                                                                                                                                                                                                                                                                                                                                                                                                                                                   \n",
      "TABLE 4\n",
      "                                                   0  \\\n",
      "0  .mw-parser-output .nobold{font-weight:normal}g...   \n",
      "1                                       specialized:   \n",
      "\n",
      "                                                   1  \n",
      "0  ICD 11 10 9 ICPC-2 DRC NANDA Read codes SNOMED...  \n",
      "1    ICD-O ICSD ICHD ILDS DSM IV 5 BPA CCMD-3 OSIICS  \n",
      "TABLE 5\n",
      "        vteHealth informatics  \\\n",
      "0              Subdisciplines   \n",
      "1      Medical classification   \n",
      "2  Professional organizations   \n",
      "3              Other concepts   \n",
      "\n",
      "                             vteHealth informatics.1  \n",
      "0  Medical image computing and imaging informatic...  \n",
      "1  Continuity of Care Record HRHIS ICD ISO 27799 ...  \n",
      "2  American Association for Medical Systems and I...  \n",
      "3  Health Level 7 Remote manipulator Personalized...  \n",
      "TABLE 6\n",
      "    Authority control         Authority control.1\n",
      "0             General  VIAF 1 WorldCat (via VIAF)\n",
      "1  National libraries                     Germany\n"
     ]
    },
    {
     "data": {
      "text/html": [
       "<div>\n",
       "<style scoped>\n",
       "    .dataframe tbody tr th:only-of-type {\n",
       "        vertical-align: middle;\n",
       "    }\n",
       "\n",
       "    .dataframe tbody tr th {\n",
       "        vertical-align: top;\n",
       "    }\n",
       "\n",
       "    .dataframe thead th {\n",
       "        text-align: right;\n",
       "    }\n",
       "</style>\n",
       "<table border=\"1\" class=\"dataframe\">\n",
       "  <thead>\n",
       "    <tr style=\"text-align: right;\">\n",
       "      <th></th>\n",
       "      <th>0</th>\n",
       "      <th>1</th>\n",
       "    </tr>\n",
       "  </thead>\n",
       "  <tbody>\n",
       "    <tr>\n",
       "      <th>0</th>\n",
       "      <td>NaN</td>\n",
       "      <td>Wikidata has the property: ID (MMS) (P7329) (s...</td>\n",
       "    </tr>\n",
       "  </tbody>\n",
       "</table>\n",
       "</div>"
      ],
      "text/plain": [
       "    0                                                  1\n",
       "0 NaN  Wikidata has the property: ID (MMS) (P7329) (s..."
      ]
     },
     "execution_count": 22,
     "metadata": {},
     "output_type": "execute_result"
    }
   ],
   "source": [
    "import pandas as pd\n",
    "tables = pd.read_html('https://en.wikipedia.org/wiki/International_Classification_of_Diseases')\n",
    "len(tables)\n",
    "for index,table in enumerate(tables):\n",
    "    print(\"TABLE {}\".format(index))\n",
    "    print(table)\n",
    "    "
   ]
  },
  {
   "cell_type": "code",
   "execution_count": 25,
   "metadata": {},
   "outputs": [
    {
     "data": {
      "text/html": [
       "<div>\n",
       "<style scoped>\n",
       "    .dataframe tbody tr th:only-of-type {\n",
       "        vertical-align: middle;\n",
       "    }\n",
       "\n",
       "    .dataframe tbody tr th {\n",
       "        vertical-align: top;\n",
       "    }\n",
       "\n",
       "    .dataframe thead th {\n",
       "        text-align: right;\n",
       "    }\n",
       "</style>\n",
       "<table border=\"1\" class=\"dataframe\">\n",
       "  <thead>\n",
       "    <tr style=\"text-align: right;\">\n",
       "      <th></th>\n",
       "      <th>0</th>\n",
       "      <th>1</th>\n",
       "    </tr>\n",
       "  </thead>\n",
       "  <tbody>\n",
       "    <tr>\n",
       "      <th>0</th>\n",
       "      <td>ICD-1 – 1900 ICD-2 – 1910 ICD-3 – 1921 ICD-4 –...</td>\n",
       "      <td>ICD-6 – 1949 ICD-7 – 1958 ICD-8A – 1968 ICD-9 ...</td>\n",
       "    </tr>\n",
       "  </tbody>\n",
       "</table>\n",
       "</div>"
      ],
      "text/plain": [
       "                                                   0  \\\n",
       "0  ICD-1 – 1900 ICD-2 – 1910 ICD-3 – 1921 ICD-4 –...   \n",
       "\n",
       "                                                   1  \n",
       "0  ICD-6 – 1949 ICD-7 – 1958 ICD-8A – 1968 ICD-9 ...  "
      ]
     },
     "execution_count": 25,
     "metadata": {},
     "output_type": "execute_result"
    }
   ],
   "source": [
    "drgs = tables[1]\n",
    "drgs"
   ]
  },
  {
   "cell_type": "markdown",
   "metadata": {},
   "source": [
    "---\n",
    "\n",
    "## Check your work above\n",
    "\n",
    "If you didn't get them all correct, take a few minutes to think through those that aren't correct.\n",
    "\n",
    "\n",
    "## Submitting Your Work\n",
    "\n",
    "In order to submit your work, you'll need to use the `git` command line program to **add** your homework file (this file) to your local repository, **commit** your changes to your local repository, and then **push** those changes up to github.com.  From there, I'll be able to **pull** the changes down and do my grading.  I'll provide some feedback, **commit** and **push** my comments back to you.  Next week, I'll show you how to **pull** down my comments.\n",
    "\n",
    "To run through everything one last time and submit your work:\n",
    "1. Use the `Kernel` -> `Restart Kernel and Run All Cells` menu option to run everything from top to bottom and stop here.\n",
    "2. Follow the instruction on the prompt below to either ssave and submit your work, or continue working.\n",
    "\n",
    "If anything fails along the way with this submission part of the process, let me know.  I'll help you troubleshoort."
   ]
  },
  {
   "cell_type": "markdown",
   "metadata": {},
   "source": [
    "---"
   ]
  },
  {
   "cell_type": "code",
   "execution_count": null,
   "metadata": {
    "jupyter": {
     "source_hidden": true
    }
   },
   "outputs": [],
   "source": [
    "a=input('''\n",
    "Are you ready to submit your work?\n",
    "1. Click the Save icon (or do Ctrl-S / Cmd-S)\n",
    "2. Type \"yes\" or \"no\" below\n",
    "3. Press Enter\n",
    "\n",
    "''')\n",
    "\n",
    "if a=='yes':\n",
    "    !git add week07_assignment_2.ipynb\n",
    "    !git commit -a -m \"Submitting the week 7 programming exercises\"\n",
    "    !git push\n",
    "else:\n",
    "    print('''\n",
    "    \n",
    "OK. We can wait.\n",
    "''')"
   ]
  },
  {
   "cell_type": "code",
   "execution_count": null,
   "metadata": {},
   "outputs": [],
   "source": []
  }
 ],
 "metadata": {
  "kernelspec": {
   "display_name": "Python 3",
   "language": "python",
   "name": "python3"
  },
  "language_info": {
   "codemirror_mode": {
    "name": "ipython",
    "version": 3
   },
   "file_extension": ".py",
   "mimetype": "text/x-python",
   "name": "python",
   "nbconvert_exporter": "python",
   "pygments_lexer": "ipython3",
   "version": "3.6.7"
  }
 },
 "nbformat": 4,
 "nbformat_minor": 4
}
